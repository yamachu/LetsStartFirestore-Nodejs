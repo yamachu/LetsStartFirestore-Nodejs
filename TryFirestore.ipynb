{
 "cells": [
  {
   "cell_type": "markdown",
   "metadata": {},
   "source": [
    "```sh\n",
    "$ npm init -y\n",
    "$ npm i firebase\n",
    "```\n",
    "\n",
    "でとりあえずfirebaseのパッケージを導入\n",
    "\n",
    "\n",
    "https://github.com/notablemind/jupyter-nodejs\n",
    "\n",
    "を使う場合、以下の準備が必要。\n",
    "\n",
    "Macの場合\n",
    "```sh\n",
    "$ brew install zmq\n",
    "$ brew install pkg-config\n",
    "```\n",
    "\n",
    "などをインストールして、node-gypでビルドできるようにする。\n",
    "node-gypにはPython2が必要なので、いい感じにしておく。\n"
   ]
  },
  {
   "cell_type": "code",
   "execution_count": 1,
   "metadata": {},
   "outputs": [],
   "source": [
    "const firebase = require(\"firebase\");"
   ]
  },
  {
   "cell_type": "markdown",
   "metadata": {},
   "source": [
    "プロジェクトのページの左のギアを押すと設定が出てきて、そのページからAPIKEYやらProjectIDを取得する。\n",
    "\n",
    "項目によってはこれどこ？どれ？みたいのもあるので、以下の情報を参考にしてほしい。\n",
    "\n",
    "```\n",
    "const _API_KEY = 'ここにAPI　KEY';\n",
    "const _PROJECT_ID = 'ここでいうところの eventappsample';\n",
    "\n",
    "const firebaseConfig = {\n",
    "  apiKey: _API_KEY,\n",
    "  authDomain: `${_PROJECT_ID}.firebaseapp.com`,\n",
    "  databaseURL: `https://${_PROJECT_ID}.firebaseio.com`,\n",
    "  projectId: _PROJECT_ID, // firestore使う場合projectIdのパラメータが必須\n",
    "};\n",
    "```\n",
    "\n",
    "これらの情報を使用して、firebaseのプロジェクトを使用できるようにする。"
   ]
  },
  {
   "cell_type": "code",
   "execution_count": 2,
   "metadata": {},
   "outputs": [
    {
     "data": {
      "text/plain": [
       "[FirebaseAppImpl] [object Object]"
      ]
     },
     "execution_count": 2,
     "metadata": {},
     "output_type": "execute_result"
    }
   ],
   "source": [
    "let configJson = require('./firebase-config.json')\n",
    "\n",
    "const firebaseConfig = {\n",
    "  apiKey: configJson.apiKey,\n",
    "  authDomain: configJson.authDomain,\n",
    "  databaseURL: configJson.databaseURL,\n",
    "  projectId: configJson.projectId \n",
    "};\n",
    "firebase.initializeApp(firebaseConfig);"
   ]
  },
  {
   "cell_type": "markdown",
   "metadata": {},
   "source": [
    "firestoreのreferenceを取得。"
   ]
  },
  {
   "cell_type": "code",
   "execution_count": 3,
   "metadata": {},
   "outputs": [],
   "source": [
    "const db = firebase.firestore();"
   ]
  },
  {
   "cell_type": "markdown",
   "metadata": {},
   "source": [
    "Collectionを一気になめてみるサンプル"
   ]
  },
  {
   "cell_type": "code",
   "execution_count": 6,
   "metadata": {},
   "outputs": [
    {
     "data": {
      "text/plain": [
       "[Promise] {\"domain\":{\"domain\":null,\"_events\":{},\"_eventsCount\":1,\"members\":[]}}"
      ]
     },
     "execution_count": 6,
     "metadata": {},
     "output_type": "execute_result"
    },
    {
     "name": "stdout",
     "output_type": "stream",
     "text": [
      "fiEqAXe0r0RV3JXh6AoD => {\"name\":\"publicEvent01\"}\n"
     ]
    }
   ],
   "source": [
    "db.collection('events').doc('public').collection('resources').get()\n",
    "    .then(snapshot => {\n",
    "      snapshot.forEach(doc => {\n",
    "        console.log(doc.id, '=>', doc.data());\n",
    "      });\n",
    "    })\n",
    "    .catch(err => {\n",
    "      console.log('Error getting documents', err);\n",
    "    });"
   ]
  },
  {
   "cell_type": "markdown",
   "metadata": {},
   "source": [
    "特定のドキュメントを取得するサンプル"
   ]
  },
  {
   "cell_type": "code",
   "execution_count": 7,
   "metadata": {},
   "outputs": [
    {
     "data": {
      "text/plain": [
       "[Promise] {\"domain\":{\"domain\":null,\"_events\":{},\"_eventsCount\":1,\"members\":[]}}"
      ]
     },
     "execution_count": 7,
     "metadata": {},
     "output_type": "execute_result"
    },
    {
     "name": "stdout",
     "output_type": "stream",
     "text": [
      "{\"name\":\"publicEvent01\"}\n"
     ]
    }
   ],
   "source": [
    "db.collection('events').doc('public').collection('resources').doc('fiEqAXe0r0RV3JXh6AoD').get()\n",
    "    .then(doc => {\n",
    "      console.log(doc.data());\n",
    "    })\n",
    "    .catch(err => {\n",
    "      console.log('Error getting documents', err);\n",
    "    });"
   ]
  },
  {
   "cell_type": "code",
   "execution_count": null,
   "metadata": {},
   "outputs": [],
   "source": []
  }
 ],
 "metadata": {
  "kernelspec": {
   "display_name": "NodeJS",
   "language": "javascript",
   "name": "nodejs"
  },
  "language_info": {
   "codemirror_mode": "javascript",
   "file_extension": ".js",
   "mimetype": "text/javascript",
   "name": "nodejs",
   "pygments_lexer": "javascript",
   "version": "0.10"
  }
 },
 "nbformat": 4,
 "nbformat_minor": 2
}
